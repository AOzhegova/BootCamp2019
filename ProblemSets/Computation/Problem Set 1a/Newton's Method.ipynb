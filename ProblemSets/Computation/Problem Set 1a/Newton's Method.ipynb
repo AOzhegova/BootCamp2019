{
 "cells": [
  {
   "cell_type": "markdown",
   "metadata": {},
   "source": [
    "### Newton's Method\n",
    "#### Author: Alina Ozhegova \n",
    "\n",
    "Date: 07/06/2019 (Week 1)\n",
    "\n",
    "\n"
   ]
  },
  {
   "cell_type": "code",
   "execution_count": 232,
   "metadata": {
    "collapsed": true
   },
   "outputs": [],
   "source": [
    "import numpy as np\n",
    "import sympy as sy\n",
    "from scipy import optimize as opt\n",
    "from matplotlib import pyplot as plt "
   ]
  },
  {
   "cell_type": "markdown",
   "metadata": {},
   "source": [
    "### Problem 1"
   ]
  },
  {
   "cell_type": "code",
   "execution_count": 36,
   "metadata": {
    "collapsed": true
   },
   "outputs": [],
   "source": [
    "def Newton(f, x0, f_prime, tol = 1e-5, maxiters = 15):\n",
    "    xk = x0\n",
    "    converged = False\n",
    "    for i in range(maxiters):\n",
    "        xk1 = xk - f(xk)/f_prime(xk)\n",
    "        if abs(xk1 - xk) < tol:\n",
    "            converged = True\n",
    "            break\n",
    "        else:\n",
    "            xk = xk1\n",
    "    return(xk, converged)"
   ]
  },
  {
   "cell_type": "code",
   "execution_count": 35,
   "metadata": {
    "collapsed": true
   },
   "outputs": [],
   "source": [
    "def f1(x):\n",
    "    return np.exp(x) - 2\n",
    "def f1_prime(x):\n",
    "    return np.exp(x)\n",
    "def f2(x):\n",
    "    return x ** 4 - 3\n",
    "def f2_prime(x):\n",
    "    return 4 * x ** 3"
   ]
  },
  {
   "cell_type": "code",
   "execution_count": 38,
   "metadata": {},
   "outputs": [
    {
     "name": "stdout",
     "output_type": "stream",
     "text": [
      "(0.69314758105977137, True)\n"
     ]
    }
   ],
   "source": [
    "roots1 = Newton(f1, 1, f1_prime)\n",
    "print(roots1)"
   ]
  },
  {
   "cell_type": "code",
   "execution_count": 39,
   "metadata": {},
   "outputs": [
    {
     "data": {
      "text/plain": [
       "0.69314718055994529"
      ]
     },
     "execution_count": 39,
     "metadata": {},
     "output_type": "execute_result"
    }
   ],
   "source": [
    "opt.newton(f1, 1, f1_prime)#the same"
   ]
  },
  {
   "cell_type": "code",
   "execution_count": 40,
   "metadata": {},
   "outputs": [
    {
     "name": "stdout",
     "output_type": "stream",
     "text": [
      "(1.3160753007540056, True)\n"
     ]
    }
   ],
   "source": [
    "roots2 = Newton(f2, 1, f2_prime)\n",
    "print(roots2)"
   ]
  },
  {
   "cell_type": "code",
   "execution_count": 41,
   "metadata": {},
   "outputs": [
    {
     "data": {
      "text/plain": [
       "1.3160740129524924"
      ]
     },
     "execution_count": 41,
     "metadata": {},
     "output_type": "execute_result"
    }
   ],
   "source": [
    "opt.newton(f2, 1, f2_prime)#the same"
   ]
  },
  {
   "cell_type": "markdown",
   "metadata": {},
   "source": [
    "### Problem 3"
   ]
  },
  {
   "cell_type": "code",
   "execution_count": 49,
   "metadata": {
    "collapsed": true
   },
   "outputs": [],
   "source": [
    "def NewtonModified(f, x0, f_prime, tol = 1e-5, maxiters = 15, alpha = 1):\n",
    "    xk = x0\n",
    "    converged = False\n",
    "    for i in range(maxiters):\n",
    "        xk1 = xk - alpha * f(xk)/f_prime(xk)\n",
    "        if abs(xk1 - xk) < tol:\n",
    "            converged = True\n",
    "            break\n",
    "        else:\n",
    "            xk = xk1\n",
    "    return(xk, converged)"
   ]
  },
  {
   "cell_type": "code",
   "execution_count": 53,
   "metadata": {
    "collapsed": true
   },
   "outputs": [],
   "source": [
    "f = lambda x: np.sign(x) * np.power(np.abs(x), 1./3)\n",
    "f_prime = lambda x: (1./3) * np.power(np.abs(x), -2./3)"
   ]
  },
  {
   "cell_type": "code",
   "execution_count": 56,
   "metadata": {},
   "outputs": [
    {
     "name": "stdout",
     "output_type": "stream",
     "text": [
      "(-3.2000000000000507e-06, True)\n"
     ]
    }
   ],
   "source": [
    "roots = NewtonModified(f, 0.01, f_prime, alpha = 0.4)\n",
    "print(roots)"
   ]
  },
  {
   "cell_type": "code",
   "execution_count": 57,
   "metadata": {},
   "outputs": [
    {
     "name": "stdout",
     "output_type": "stream",
     "text": [
      "(-0.00035184372088832452, False)\n"
     ]
    }
   ],
   "source": [
    "roots = NewtonModified(f, 0.01, f_prime, alpha = 0.6)\n",
    "print(roots)"
   ]
  },
  {
   "cell_type": "markdown",
   "metadata": {},
   "source": [
    "### Problem 4"
   ]
  },
  {
   "cell_type": "code",
   "execution_count": 209,
   "metadata": {
    "collapsed": true
   },
   "outputs": [],
   "source": [
    "def NewtonModifiedOpt(f, x0, f_prime, tol = 1e-5, maxiters = 150):\n",
    "    \n",
    "    alpha = np.linspace(.01, 1, 50)\n",
    "    num_it = np.zeros(len(alpha))\n",
    "    \n",
    "    for index, ai in enumerate(alpha):\n",
    "        xk = x0\n",
    "        error = tol + 1\n",
    "        for i in range(maxiters):\n",
    "            xk1 = xk - ai * f(xk) / f_prime(xk)\n",
    "            error = np.abs(xk1 - xk)\n",
    "            xk = xk1\n",
    "            error = np.abs(xk1 - xk)\n",
    "            if error < tol:\n",
    "                break\n",
    "        num_it[index] = i\n",
    "\n",
    "    return num_it"
   ]
  },
  {
   "cell_type": "code",
   "execution_count": 210,
   "metadata": {
    "collapsed": true
   },
   "outputs": [],
   "source": [
    "f1 = lambda x: np.sign(x) * np.power(np.abs(x), 1./3)\n",
    "f1_prime = lambda x: (1./3) * np.power(np.abs(x), -2./3)"
   ]
  },
  {
   "cell_type": "code",
   "execution_count": 211,
   "metadata": {},
   "outputs": [
    {
     "name": "stdout",
     "output_type": "stream",
     "text": [
      "[ 0.  0.  0.  0.  0.  0.  0.  0.  0.  0.  0.  0.  0.  0.  0.  0.  0.  0.\n",
      "  0.  0.  0.  0.  0.  0.  0.  0.  0.  0.  0.  0.  0.  0.  0.  0.  0.  0.\n",
      "  0.  0.  0.  0.  0.  0.  0.  0.  0.  0.  0.  0.  0.  0.]\n"
     ]
    }
   ],
   "source": [
    "alpha = np.linspace(.01, 1, 50)\n",
    "num_it = NewtonModifiedOpt(f1, .01, f1_prime, maxiters = 150)\n",
    "print(num_it)"
   ]
  },
  {
   "cell_type": "markdown",
   "metadata": {},
   "source": [
    "### Problem 7"
   ]
  },
  {
   "cell_type": "code",
   "execution_count": null,
   "metadata": {
    "collapsed": true
   },
   "outputs": [],
   "source": [
    "def Newton(f, x0, f_prime, tol = 1e-5, maxiters = 15):\n",
    "    xk = x0\n",
    "    converged = False\n",
    "    for i in range(maxiters):\n",
    "        xk1 = xk - f(xk)/f_prime(xk)\n",
    "        if abs(xk1 - xk) < tol:\n",
    "            converged = True\n",
    "            break\n",
    "        else:\n",
    "            xk = xk1\n",
    "    return(xk, converged)"
   ]
  },
  {
   "cell_type": "code",
   "execution_count": 248,
   "metadata": {
    "collapsed": true
   },
   "outputs": [],
   "source": [
    "def basis_newton(f, f_prime, zeros, bounds, res, iters):\n",
    "    x_real = np.linspace(bounds[0], bounds[1], res)\n",
    "    x_imag = np.linspace(bounds[2], bounds[3], res)\n",
    "    X_real, X_imag = np.meshgrid(x_real, x_imag)\n",
    "    X_0 = X_real + 1j * X_imag\n",
    "    Xk = np.zeros((res,res), dtype = np.float64)\n",
    "    \n",
    "    for i in range(iters):\n",
    "        X_1 = X_0 - f(X_0)/f_prime(X_0)\n",
    "        X_0 = X_1\n",
    "    \n",
    "    Y = np.fromiter((np.argmin(abs(zeros - i)) for i in X_1.ravel()), \n",
    "                    dtype=np.int64, count=res**2).reshape((res, res))\n",
    "\n",
    "    fig = plt.figure(figsize=(10,7))\n",
    "    plt.pcolormesh(x_real, x_imag, Y, cmap=\"brg\")\n",
    "    plt.show()"
   ]
  },
  {
   "cell_type": "code",
   "execution_count": 249,
   "metadata": {},
   "outputs": [],
   "source": [
    "f1 = lambda x: x**3 - 1\n",
    "df1 = lambda x: 3 * x**2"
   ]
  },
  {
   "cell_type": "code",
   "execution_count": 250,
   "metadata": {
    "collapsed": true
   },
   "outputs": [],
   "source": [
    "zeros1 = np.array([1, -.5 + 1j * np.sqrt(3) / 2, -.5 - 1j * np.sqrt(3) / 2])\n",
    "bounds1 = np.array([-1.5, 1.5, -1.5, 1.5])"
   ]
  },
  {
   "cell_type": "code",
   "execution_count": 252,
   "metadata": {},
   "outputs": [
    {
     "data": {
      "image/png": "[encoded data removed]",
      "text/plain": [
       "<matplotlib.figure.Figure at 0x1518b8cf60>"
      ]
     },
     "metadata": {},
     "output_type": "display_data"
    }
   ],
   "source": [
    "basis_newton(f1, df1, zeros1, bounds1, 1000, 100)"
   ]
  },
  {
   "cell_type": "code",
   "execution_count": 253,
   "metadata": {
    "collapsed": true
   },
   "outputs": [],
   "source": [
    "f2 = lambda x: x**3 - x\n",
    "df2 = lambda x: 3*x**2 - 1"
   ]
  },
  {
   "cell_type": "code",
   "execution_count": 254,
   "metadata": {
    "collapsed": true
   },
   "outputs": [],
   "source": [
    "zeros2 = np.array([0, 1, -1])\n",
    "bounds2 = np.array([-1.5, 1.5, -1.5, 1.5])"
   ]
  },
  {
   "cell_type": "code",
   "execution_count": 255,
   "metadata": {},
   "outputs": [
    {
     "data": {
      "image/png": "[encoded data removed]",
      "text/plain": [
       "<matplotlib.figure.Figure at 0x1518b8c710>"
      ]
     },
     "metadata": {},
     "output_type": "display_data"
    }
   ],
   "source": [
    "basis_newton(f2, df2, zeros2, bounds2, 1000, 100)"
   ]
  }
 ],
 "metadata": {
  "kernelspec": {
   "display_name": "Python 3",
   "language": "python",
   "name": "python3"
  },
  "language_info": {
   "codemirror_mode": {
    "name": "ipython",
    "version": 3
   },
   "file_extension": ".py",
   "mimetype": "text/x-python",
   "name": "python",
   "nbconvert_exporter": "python",
   "pygments_lexer": "ipython3",
   "version": "3.6.2"
  }
 },
 "nbformat": 4,
 "nbformat_minor": 2
}
