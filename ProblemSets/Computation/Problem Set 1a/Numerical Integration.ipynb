{
 "cells": [
  {
   "cell_type": "markdown",
   "metadata": {},
   "source": [
    "### Numerical Intergration\n",
    "#### Author: Alina Ozhegova\n",
    "Date: 07/06/2019"
   ]
  },
  {
   "cell_type": "code",
   "execution_count": 200,
   "metadata": {
    "collapsed": true
   },
   "outputs": [],
   "source": [
    "import requests\n",
    "from IPython.display import Image\n",
    "import numpy as np\n",
    "from scipy import stats as sts\n",
    "from scipy import optimize as opt\n",
    "from scipy import integrate"
   ]
  },
  {
   "cell_type": "markdown",
   "metadata": {},
   "source": [
    "### Problem 2.1"
   ]
  },
  {
   "cell_type": "code",
   "execution_count": 111,
   "metadata": {},
   "outputs": [],
   "source": [
    "def num_integration(g, a, b, N, method):\n",
    "    area_sum = 0\n",
    "    #Midpoint rule\n",
    "    if method == 'midpoint':\n",
    "        x = np.zeros(N, dtype = np.float64)\n",
    "        for i in range(N):\n",
    "            x[i] = a + (2 * i + 1) * (b - a)/(2 * N)\n",
    "            area_sum = area_sum + g(x[i])\n",
    "        area_sum = area_sum * (b - a)/N\n",
    "    #Trapezoid rule\n",
    "    elif method == 'trapezoid':\n",
    "        area_sum = 0\n",
    "        x = np.zeros(N + 1, dtype = np.float64)\n",
    "        for i in range(N + 1):\n",
    "            x[i] = a + i * (b - a)/N\n",
    "            if i == 0:\n",
    "                area_sum = area_sum + g(x[i])\n",
    "            elif i == N:\n",
    "                area_sum = area_sum + g(x[i])\n",
    "            else:\n",
    "                area_sum = area_sum + 2 * g(x[i])\n",
    "        area_sum = ((b - a)/(2 * N)) * area_sum    \n",
    "    #Simpson's rule\n",
    "    elif method == 'Simpsons':\n",
    "        x = np.zeros(2 * N + 1, dtype = np.float64)\n",
    "        for i in range(2 * N + 1):\n",
    "            x[i] = a + i * (b - a)/(2 * N)\n",
    "            if i == 0:\n",
    "                area_sum = area_sum + g(x[i])\n",
    "            elif i == 2 * N:\n",
    "                area_sum = area_sum + g(x[i])\n",
    "            elif i % 2 == 1:\n",
    "                area_sum = area_sum + 4 * g(x[i])\n",
    "            elif i % 2 == 0:\n",
    "                area_sum = area_sum + 2 * g(x[i])\n",
    "        area_sum = area_sum * (b - a) / (3 * (2 * N + 1))\n",
    "    return area_sum"
   ]
  },
  {
   "cell_type": "code",
   "execution_count": 112,
   "metadata": {
    "collapsed": true
   },
   "outputs": [],
   "source": [
    "#Check\n",
    "def g(x):\n",
    "    return .1 * x ** 4 - 1.5 * x ** 3 + .53 * x ** 2 + 2 * x + 1"
   ]
  },
  {
   "cell_type": "code",
   "execution_count": 113,
   "metadata": {},
   "outputs": [
    {
     "name": "stdout",
     "output_type": "stream",
     "text": [
      "4373.1146776\n"
     ]
    }
   ],
   "source": [
    "res = num_integration(g, -10, 10, 10000, method = 'Simpsons')\n",
    "print(res)"
   ]
  },
  {
   "cell_type": "markdown",
   "metadata": {},
   "source": [
    "### Problem 2.2"
   ]
  },
  {
   "cell_type": "code",
   "execution_count": 140,
   "metadata": {
    "collapsed": true
   },
   "outputs": [],
   "source": [
    "def NormalDistApprox(m, sd, N, k):\n",
    "    z = np.linspace(m - k * sd, m + sd * k, N)\n",
    "    w = np.zeros(N, dtype = np.float64)\n",
    "    for i in range(1, N + 1):\n",
    "        if i == 1:\n",
    "            w[i - 1] = sts.norm.cdf((z[i - 1] + z[i])/2, loc = m, scale = sd)\n",
    "        elif i == N:\n",
    "            w[i - 1] = 1 - sts.norm.cdf((z[N - 2] + z[N - 1])/2, loc = m, \\\n",
    "                                    scale = sd)\n",
    "        else:\n",
    "            w[i - 1] = sts.norm.pdf(z[i - 1], loc = m, scale = sd) \\\n",
    "            * (z[N - 1] - z[0])/N\n",
    "    return w, z"
   ]
  },
  {
   "cell_type": "code",
   "execution_count": 146,
   "metadata": {},
   "outputs": [
    {
     "name": "stdout",
     "output_type": "stream",
     "text": [
      "[  3.39767312e-06   1.21663842e-04   4.02895310e-03   4.90826968e-02\n",
      "   2.19973386e-01   3.62674800e-01   2.19973386e-01   4.90826968e-02\n",
      "   4.02895310e-03   1.21663842e-04   3.39767312e-06]\n",
      "[-5. -4. -3. -2. -1.  0.  1.  2.  3.  4.  5.]\n"
     ]
    }
   ],
   "source": [
    "w, z = NormalDistApprox(0, 1, 11, 5)\n",
    "print(w)\n",
    "print(z)"
   ]
  },
  {
   "cell_type": "markdown",
   "metadata": {},
   "source": [
    "### Problem 2.3"
   ]
  },
  {
   "cell_type": "code",
   "execution_count": 147,
   "metadata": {
    "collapsed": true
   },
   "outputs": [],
   "source": [
    "def LogNormalApprox(m , sd, N, k):\n",
    "    w, z = NormalDistApprox(m , sd, N, k)\n",
    "    A = np.exp(z)\n",
    "    return w, A"
   ]
  },
  {
   "cell_type": "code",
   "execution_count": 148,
   "metadata": {},
   "outputs": [
    {
     "name": "stdout",
     "output_type": "stream",
     "text": [
      "[  3.39767312e-06   1.21663842e-04   4.02895310e-03   4.90826968e-02\n",
      "   2.19973386e-01   3.62674800e-01   2.19973386e-01   4.90826968e-02\n",
      "   4.02895310e-03   1.21663842e-04   3.39767312e-06]\n",
      "[  6.73794700e-03   1.83156389e-02   4.97870684e-02   1.35335283e-01\n",
      "   3.67879441e-01   1.00000000e+00   2.71828183e+00   7.38905610e+00\n",
      "   2.00855369e+01   5.45981500e+01   1.48413159e+02]\n"
     ]
    }
   ],
   "source": [
    "w, A = LogNormalApprox(0, 1, 11, 5)\n",
    "print(w)\n",
    "print(A)"
   ]
  },
  {
   "cell_type": "markdown",
   "metadata": {},
   "source": [
    "### Problem 2.4"
   ]
  },
  {
   "cell_type": "code",
   "execution_count": 152,
   "metadata": {
    "collapsed": true
   },
   "outputs": [],
   "source": [
    "m, sd, N, k = 10.5, .8, 1000, 5"
   ]
  },
  {
   "cell_type": "code",
   "execution_count": 153,
   "metadata": {},
   "outputs": [],
   "source": [
    "w, A = LogNormalApprox(m, sd, N, k)"
   ]
  },
  {
   "cell_type": "code",
   "execution_count": 158,
   "metadata": {},
   "outputs": [
    {
     "name": "stdout",
     "output_type": "stream",
     "text": [
      "50010.9885932\n"
     ]
    }
   ],
   "source": [
    "AvIncome = np.average(A, weights = w)\n",
    "print(AvIncome)#very close"
   ]
  },
  {
   "cell_type": "code",
   "execution_count": 160,
   "metadata": {},
   "outputs": [
    {
     "name": "stdout",
     "output_type": "stream",
     "text": [
      "50011.0870085\n"
     ]
    }
   ],
   "source": [
    "TrueValue = np.exp(m + (sd**2)/2)\n",
    "print(TrueValue)"
   ]
  },
  {
   "cell_type": "markdown",
   "metadata": {},
   "source": [
    "### Problem 3.1"
   ]
  },
  {
   "cell_type": "code",
   "execution_count": 197,
   "metadata": {},
   "outputs": [],
   "source": [
    "def GaussQuadApprox(input):\n",
    "    input = w1, w2, w3, x1, x2, x3\n",
    "    r = np.zeros(6, dtype=np.float64)\n",
    "    res = np.zeros(6, dtype = np.float64)\n",
    "    for i in range(6):\n",
    "        r[i] = (1 ** (i + 1) - (-1) ** (i + 1))/(i + 1)\n",
    "    for j in range(6):\n",
    "        res[j] = np.abs(r[i] - w1 * (x1 ** j) - w2 * (x2 ** j) - \\\n",
    "                        w3 * (x3 ** j))\n",
    "    return res"
   ]
  },
  {
   "cell_type": "code",
   "execution_count": 198,
   "metadata": {},
   "outputs": [
    {
     "name": "stderr",
     "output_type": "stream",
     "text": [
      "/anaconda3/lib/python3.6/site-packages/scipy/optimize/minpack.py:161: RuntimeWarning: The iteration is not making good progress, as measured by the \n",
      "  improvement from the last ten iterations.\n",
      "  warnings.warn(msg, RuntimeWarning)\n"
     ]
    },
    {
     "data": {
      "text/plain": [
       "array([ 1. ,  1. ,  1. , -0.5,  0. ,  0.5])"
      ]
     },
     "execution_count": 198,
     "metadata": {},
     "output_type": "execute_result"
    }
   ],
   "source": [
    "input = np.array([1, 1, 1, - .5, 0, 0.5])\n",
    "solution = opt.fsolve(GaussQuadApprox, input)\n",
    "solution"
   ]
  },
  {
   "cell_type": "code",
   "execution_count": 195,
   "metadata": {
    "collapsed": true
   },
   "outputs": [],
   "source": [
    "def g(x):\n",
    "    return .1 * x ** 4 - 1.5 * x ** 3 + .53 * x ** 2 + 2 * x + 1"
   ]
  },
  {
   "cell_type": "code",
   "execution_count": 196,
   "metadata": {},
   "outputs": [
    {
     "data": {
      "text/plain": [
       "3.2774999999999999"
      ]
     },
     "execution_count": 196,
     "metadata": {},
     "output_type": "execute_result"
    }
   ],
   "source": [
    "np.sum(solution[:3] * g(solution[3:]))"
   ]
  },
  {
   "cell_type": "code",
   "execution_count": 189,
   "metadata": {
    "collapsed": true
   },
   "outputs": [],
   "source": [
    "def system_errors(x):\n",
    "    w1, w2, w3, x1, x2, x3 = x\n",
    "    r = np.zeros(6, dtype=np.float64)\n",
    "    err = np.zeros(6, dtype = np.float64)\n",
    "    for i in range(6):\n",
    "        r[i] = (1 ** (i + 1) - (-1) ** (i + 1))/(i + 1)\n",
    "    \n",
    "    for ii in range(6):\n",
    "        err[ii] = np.abs(rhs[ii] - w1 * (x1 ** ii) - w2 * (x2 ** ii) - w3 * (x3 ** ii))\n",
    "    return err"
   ]
  },
  {
   "cell_type": "code",
   "execution_count": 190,
   "metadata": {},
   "outputs": [
    {
     "data": {
      "text/plain": [
       "array([ 1.        ,  0.        ,  0.16666667,  0.        ,  0.275     ,  0.        ])"
      ]
     },
     "execution_count": 190,
     "metadata": {},
     "output_type": "execute_result"
    }
   ],
   "source": [
    "guess = np.array([1, 1, 1, -.5, 0, .5])\n",
    "system_errors(guess)"
   ]
  },
  {
   "cell_type": "markdown",
   "metadata": {},
   "source": [
    "### Exercise 3.2"
   ]
  },
  {
   "cell_type": "code",
   "execution_count": 210,
   "metadata": {},
   "outputs": [
    {
     "name": "stdout",
     "output_type": "stream",
     "text": [
      "4373.333333333334\n",
      "8.109531705284936e-11\n"
     ]
    }
   ],
   "source": [
    "sol = integrate.quad(g, -10, 10)\n",
    "value = sol[0]\n",
    "error = sol[1]\n",
    "print(value)\n",
    "print(error)"
   ]
  },
  {
   "cell_type": "markdown",
   "metadata": {},
   "source": [
    "### Exercise 4.1"
   ]
  },
  {
   "cell_type": "code",
   "execution_count": 226,
   "metadata": {},
   "outputs": [],
   "source": [
    "np.random.seed = 25"
   ]
  },
  {
   "cell_type": "code",
   "execution_count": 227,
   "metadata": {
    "collapsed": true
   },
   "outputs": [],
   "source": [
    "def MonteCarloApprox(g, x, omega, N):\n",
    "    pi = 0\n",
    "    n = len(x)\n",
    "    area = np.prod(omega[:,1] - omega[:,0])\n",
    "    for ii in range(N):\n",
    "        draws = np.random.rand(n) * (omega[:, 1] - omega[:,0]) + omega[:,0]\n",
    "        pi = pi + g(draws.T)\n",
    "    pi = area * (1/N) * pi\n",
    "    \n",
    "    return pi"
   ]
  },
  {
   "cell_type": "code",
   "execution_count": 244,
   "metadata": {
    "collapsed": true
   },
   "outputs": [],
   "source": [
    "circle_area = lambda x: x[0] ** 2 + x[1] ** 2"
   ]
  },
  {
   "cell_type": "code",
   "execution_count": 245,
   "metadata": {
    "collapsed": true
   },
   "outputs": [],
   "source": [
    "def g(x):\n",
    "    if circle_area(x) <= 1:\n",
    "        res = 1\n",
    "    else:\n",
    "        res = 0\n",
    "    return res"
   ]
  },
  {
   "cell_type": "code",
   "execution_count": 246,
   "metadata": {
    "collapsed": true
   },
   "outputs": [],
   "source": [
    "omega = np.array([[-1, 1], [-1, 1]])"
   ]
  },
  {
   "cell_type": "code",
   "execution_count": 249,
   "metadata": {},
   "outputs": [
    {
     "data": {
      "text/plain": [
       "2.8799999999999999"
      ]
     },
     "execution_count": 249,
     "metadata": {},
     "output_type": "execute_result"
    }
   ],
   "source": [
    "MonteCarloApprox(g, np.array([0,0]), omega, 100)"
   ]
  }
 ],
 "metadata": {
  "kernelspec": {
   "display_name": "Python 3",
   "language": "python",
   "name": "python3"
  },
  "language_info": {
   "codemirror_mode": {
    "name": "ipython",
    "version": 3
   },
   "file_extension": ".py",
   "mimetype": "text/x-python",
   "name": "python",
   "nbconvert_exporter": "python",
   "pygments_lexer": "ipython3",
   "version": "3.6.2"
  }
 },
 "nbformat": 4,
 "nbformat_minor": 2
}
