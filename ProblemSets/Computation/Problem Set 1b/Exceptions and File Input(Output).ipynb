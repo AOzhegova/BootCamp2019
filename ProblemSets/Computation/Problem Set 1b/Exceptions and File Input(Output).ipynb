{
 "cells": [
  {
   "cell_type": "markdown",
   "metadata": {},
   "source": [
    "Date: 07/04/2019 <br />\n",
    "Author: Alina Ozhegova\n"
   ]
  },
  {
   "cell_type": "markdown",
   "metadata": {},
   "source": [
    "### Problem 1"
   ]
  },
  {
   "cell_type": "code",
   "execution_count": 57,
   "metadata": {
    "collapsed": true
   },
   "outputs": [],
   "source": [
    "def arithmagic():\n",
    "    step_1 = input(\"Enter a 3-digit number where the first and last \"\n",
    "    \"digits differ by 2 or more: \")\n",
    "    if len(step_1) != 3:\n",
    "        raise ValueError('Input should have 3 digits!')\n",
    "    if abs((int(step_1) // 100) - (int(step_1) % 10)) < 2:\n",
    "        raise ValueError('Difference between the first and last'\n",
    "                        'digits should be at least 2!')\n",
    "    step_2 = input(\"Enter the reverse of the first number, obtained \"\n",
    "    \"by reading it backwards: \")\n",
    "    reverse = step_1[len(step_1)-1:0:-1]+step_1[0]\n",
    "    if step_2 != reverse:\n",
    "        raise ValueError('Please, enter the reverse of the first number')\n",
    "    step_3 = input(\"Enter the positive difference of these numbers: \")\n",
    "    if int(step_3) != abs(int(step_1) - int(step_2)):\n",
    "        raise ValueError('Please, try once again.')\n",
    "    step_4 = input(\"Enter the reverse of the previous result: \")\n",
    "    reverse = step_3[len(step_3)-1:0:-1]+step_3[0]\n",
    "    if step_4 != reverse:\n",
    "        raise ValueError('Please, try once again.')\n",
    "    print(str(step_3), \"+\", str(step_4), \"= 1089 (ta-da!)\")"
   ]
  },
  {
   "cell_type": "markdown",
   "metadata": {},
   "source": [
    "### Problem 2"
   ]
  },
  {
   "cell_type": "code",
   "execution_count": 50,
   "metadata": {
    "collapsed": true
   },
   "outputs": [],
   "source": [
    "from random import choice\n",
    "def random_walk(max_iters=1e12):\n",
    "    walk = 0\n",
    "    directions = [1, -1]\n",
    "    for i in range(int(max_iters)):\n",
    "        walk += choice(directions)\n",
    "    return walk"
   ]
  },
  {
   "cell_type": "code",
   "execution_count": 55,
   "metadata": {
    "collapsed": true
   },
   "outputs": [],
   "source": [
    "def random_walk(max_iters=1e12):\n",
    "    try:\n",
    "        walk = 0\n",
    "        directions = [1, -1]\n",
    "        for i in range(int(max_iters)):\n",
    "            walk += choice(directions)\n",
    "        return walk\n",
    "    except KeyboardInterrupt: \n",
    "        print('Process interrupted at iteration' + ' ' + str(i))\n",
    "    else:\n",
    "        print('Process completed')\n",
    "        return walk"
   ]
  },
  {
   "cell_type": "code",
   "execution_count": 56,
   "metadata": {},
   "outputs": [
    {
     "name": "stdout",
     "output_type": "stream",
     "text": [
      "Process interrupted at iteration  2454606\n"
     ]
    }
   ],
   "source": [
    "random_walk()"
   ]
  },
  {
   "cell_type": "markdown",
   "metadata": {},
   "source": [
    "### Problem 3"
   ]
  },
  {
   "cell_type": "code",
   "execution_count": 92,
   "metadata": {
    "collapsed": true
   },
   "outputs": [],
   "source": [
    "class ContentFilter:\n",
    "    def __init__(self, name):\n",
    "        FileOpen = False\n",
    "        self.name = name\n",
    "        while not FileOpen:\n",
    "            try:\n",
    "                myFile = open(self.name, 'r')\n",
    "            except FileNotFoundError:\n",
    "                input('File name is invalid. Please, try once again.')\n",
    "            except TypeError:\n",
    "                input('File name is invalid. Please, try once again.')\n",
    "            except OSError:\n",
    "                input('File name is invalid. Please, try once again.')\n",
    "            else:\n",
    "                FileOpen = True\n",
    "        self.contents = myFile.readlines()\n",
    "        cont = \"\"\n",
    "        for line in self.contents:\n",
    "            cont = cont + line\n",
    "        self.contents = cont\n",
    "        myFile.close()"
   ]
  },
  {
   "cell_type": "code",
   "execution_count": 93,
   "metadata": {
    "collapsed": true
   },
   "outputs": [],
   "source": [
    "a = ContentFilter('empty_file.txt')"
   ]
  },
  {
   "cell_type": "code",
   "execution_count": 94,
   "metadata": {},
   "outputs": [
    {
     "data": {
      "text/plain": [
       "['This is an empty file\\n']"
      ]
     },
     "execution_count": 94,
     "metadata": {},
     "output_type": "execute_result"
    }
   ],
   "source": [
    "a.contents"
   ]
  },
  {
   "cell_type": "markdown",
   "metadata": {},
   "source": [
    "### Problem 4"
   ]
  },
  {
   "cell_type": "code",
   "execution_count": null,
   "metadata": {
    "collapsed": true
   },
   "outputs": [],
   "source": [
    "class ContentFilter:\n",
    "    def __init__(self, name):\n",
    "        self.name = name\n",
    "        try:\n",
    "            myFile = open(self.name, 'r')\n",
    "        except FileNotFoundError:\n",
    "            input('File name is invalid. Please, try once again.')\n",
    "        except TypeError:\n",
    "            input('File name is invalid. Please, try once again.')\n",
    "        except OSError:\n",
    "            input('File name is invalid. Please, try once again.')\n",
    "        else:\n",
    "            self.contents = myFile.readlines()\n",
    "        finally:\n",
    "            myFile.close()\n",
    "    def uniform(self, writehere, mode = 'w', case = 'upper'):\n",
    "        try:\n",
    "            FileForWriting = open(writehere, 'w') \n",
    "            FileForWriting.write(self.contents)\n",
    "        except ValueError('Something goes wrong')\n",
    "            "
   ]
  },
  {
   "cell_type": "code",
   "execution_count": null,
   "metadata": {
    "collapsed": true
   },
   "outputs": [],
   "source": [
    "file = open(“testfile.txt”,”w”) \n",
    " \n",
    "file.write(“Hello World”) \n",
    "file.write(“This is our new text file”) \n",
    "file.write(“and this is another line.”) \n",
    "file.write(“Why? Because we can.”) \n",
    " \n",
    "file.close() "
   ]
  },
  {
   "cell_type": "code",
   "execution_count": 98,
   "metadata": {},
   "outputs": [
    {
     "name": "stdout",
     "output_type": "stream",
     "text": [
      "Object `file.write` not found.\n"
     ]
    }
   ],
   "source": []
  },
  {
   "cell_type": "code",
   "execution_count": null,
   "metadata": {
    "collapsed": true
   },
   "outputs": [],
   "source": []
  }
 ],
 "metadata": {
  "kernelspec": {
   "display_name": "Python 3",
   "language": "python",
   "name": "python3"
  },
  "language_info": {
   "codemirror_mode": {
    "name": "ipython",
    "version": 3
   },
   "file_extension": ".py",
   "mimetype": "text/x-python",
   "name": "python",
   "nbconvert_exporter": "python",
   "pygments_lexer": "ipython3",
   "version": "3.6.2"
  }
 },
 "nbformat": 4,
 "nbformat_minor": 2
}
