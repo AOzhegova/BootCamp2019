{
 "cells": [
  {
   "cell_type": "markdown",
   "metadata": {},
   "source": [
    "Author: Alina Ozhegova <br />\n",
    "Date: 07/03/2019"
   ]
  },
  {
   "cell_type": "markdown",
   "metadata": {},
   "source": [
    "### Problem 1"
   ]
  },
  {
   "cell_type": "code",
   "execution_count": 5,
   "metadata": {
    "collapsed": true
   },
   "outputs": [],
   "source": [
    "class Backpack:\n",
    "    \"\"\"A Backpack object class. Has a name, a color, \n",
    "    a list of contents and its max size\n",
    "    Attributes:\n",
    "        name(str) - the name of the backpack's owner;\n",
    "        color(str) - color of the backpack;\n",
    "        contents(list) - the contents of the backpack;\n",
    "        max_size(int) - max size of the backpack.\n",
    "    \"\"\"\n",
    "    def __init__(self, name, color, max_size = 5):\n",
    "        \"\"\"\n",
    "        Set the name, color and max_size (has default value 5).\n",
    "        \n",
    "        \n",
    "        Parameters:\n",
    "            name(str) - the name of the backpack's owner;\n",
    "            color(str) - color of the backpack;\n",
    "            max_size(int) - max size of the backpack.\n",
    "        \"\"\"\n",
    "        self.name = name \n",
    "        self.color = color\n",
    "        self.max_size = max_size\n",
    "        self.contents = []\n",
    "    def put(self, item):\n",
    "        \"\"\"\n",
    "        Add 'item' to the backpack's list of contents.\n",
    "        \"\"\"\n",
    "        if len(self.contents) >= self.max_size:\n",
    "            print('No room!')\n",
    "        else:\n",
    "            self.contents.append(item) # Use 'self.contents', not just 'contents'.\n",
    "    def take(self, item):\n",
    "        \"\"\"\n",
    "        Remove 'item' from the backpack's list of contents.\n",
    "        \"\"\"\n",
    "        self.contents.remove(item)\n",
    "    def dumb(self):\n",
    "        \"\"\"\n",
    "        Reset the contents of list.\n",
    "        \"\"\"\n",
    "        self.contents.clear()"
   ]
  },
  {
   "cell_type": "code",
   "execution_count": 79,
   "metadata": {},
   "outputs": [
    {
     "name": "stdout",
     "output_type": "stream",
     "text": [
      "Contents: ['pencil', 'pen', 'paper', 'computer']\n"
     ]
    }
   ],
   "source": [
    "testpack = Backpack(\"Barry\", \"black\") # Instantiate the object.\n",
    "if testpack.name != \"Barry\": # Test an attribute.\n",
    "     print(\"Backpack.name assigned incorrectly\")\n",
    "for item in [\"pencil\", \"pen\", \"paper\", \"computer\"]:\n",
    "     testpack.put(item) # Test a method.\n",
    "print(\"Contents:\", testpack.contents)"
   ]
  },
  {
   "cell_type": "code",
   "execution_count": 4,
   "metadata": {
    "collapsed": true
   },
   "outputs": [],
   "source": [
    "from object_oriented import Backpack"
   ]
  },
  {
   "cell_type": "markdown",
   "metadata": {},
   "source": [
    "### Problem 2"
   ]
  },
  {
   "cell_type": "code",
   "execution_count": 7,
   "metadata": {
    "collapsed": true
   },
   "outputs": [],
   "source": [
    "class Jetpack(Backpack):\n",
    "    \"\"\"A Jetpack object class. Has a name, a color, a fuel\n",
    "    a list of contents, and its max size\n",
    "    Attributes:\n",
    "        name(str) - the name of the backpack's owner;\n",
    "        color(str) - color of the backpack;\n",
    "        fuel(int);\n",
    "        contents(list) - the contents of the backpack;\n",
    "        max_size(int) - max size of the backpack.\n",
    "    \"\"\"\n",
    "    def __init__(self, name, color, max_size = 2, fuel = 10):\n",
    "        \"\"\"\n",
    "        Set the name, color and max_size (has default value 5).\n",
    "        \n",
    "        \n",
    "        Parameters:\n",
    "            name(str) - the name of the backpack's owner;\n",
    "            color(str) - color of the backpack;\n",
    "            fuel(int);\n",
    "            max_size(int) - max size of the backpack.\n",
    "        \"\"\"\n",
    "        self.name = name \n",
    "        self.color = color\n",
    "        self.max_size = max_size\n",
    "        self.fuel = fuel\n",
    "        self.contents = []\n",
    "        Backpack.__init__(self, name, color, max_size)\n",
    "    def fly(self):\n",
    "        \"\"\"\n",
    "        Decrement the amount of fuel\n",
    "        \"\"\"\n",
    "        if self.fuel > 1:\n",
    "            self.fuel = self.fuel - 1\n",
    "        else:\n",
    "            print('Not enough fuel!')\n",
    "    def dumb(self):\n",
    "        \"\"\"\n",
    "        Reset the contents of list and empty fuel.\n",
    "        \"\"\"\n",
    "        self.contents.clear()\n",
    "        self.fuel = 0"
   ]
  },
  {
   "cell_type": "markdown",
   "metadata": {},
   "source": [
    "### Problem 3"
   ]
  },
  {
   "cell_type": "code",
   "execution_count": 23,
   "metadata": {
    "collapsed": true
   },
   "outputs": [],
   "source": [
    "class Backpack:\n",
    "    \"\"\"A Backpack object class. Has a name, a color,\n",
    "    a list of contents and its max size\n",
    "    Attributes:\n",
    "        name(str) - the name of the backpack's owner;\n",
    "        color(str) - color of the backpack;\n",
    "        contents(list) - the contents of the backpack;\n",
    "        max_size(int) - max size of the backpack.\n",
    "    \"\"\"\n",
    "    def __init__(self, name, color, max_size = 5):\n",
    "        \"\"\"\n",
    "        Set the name, color and max_size (has default value 5).\n",
    "\n",
    "\n",
    "        Parameters:\n",
    "            name(str) - the name of the backpack's owner;\n",
    "            color(str) - color of the backpack;\n",
    "            max_size(int) - max size of the backpack.\n",
    "        \"\"\"\n",
    "        self.name = name\n",
    "        self.color = color\n",
    "        self.max_size = max_size\n",
    "        self.contents = []\n",
    "    def put(self, item):\n",
    "        \"\"\"\n",
    "        Add 'item' to the backpack's list of contents.\n",
    "        \"\"\"\n",
    "        if len(self.contents) >= self.max_size:\n",
    "            print('No room!')\n",
    "        else:\n",
    "            self.contents.append(item) # Use 'self.contents', not just 'contents'.\n",
    "    def take(self, item):\n",
    "        \"\"\"\n",
    "        Remove 'item' from the backpack's list of contents.\n",
    "        \"\"\"\n",
    "        self.contents.remove(item)\n",
    "    def dumb(self):\n",
    "        \"\"\"\n",
    "        Reset the contents of list.\n",
    "        \"\"\"\n",
    "        self.contents.clear()\n",
    "    def __add__(self, other):\n",
    "        \"\"\"\n",
    "        Add the number of contents of each Backpack.\n",
    "        \"\"\"\n",
    "        return len(self.contents) + len(other.contents)\n",
    "    def __lt__(self, other):\n",
    "        \"\"\"If 'self' has fewer contents than 'other', return True.\n",
    "        Otherwise, return False.\n",
    "        \"\"\"\n",
    "        return len(self.contents) < len(other.contents)\n",
    "    def __eq__(self, other):\n",
    "        \"\"\"\n",
    "        Compare two objects by the name, the color and\n",
    "        the number of contents\n",
    "        \"\"\"\n",
    "        return self.name == other.name and \\\n",
    "            self.color == other.color and \\\n",
    "           len(self.contents == len(other.contents))\n",
    "    def __str__(self):\n",
    "        \"\"\"\n",
    "        Returns the string representation of an object\n",
    "        \"\"\"\n",
    "        return \"Owner:\" + self.name + \"   \" + \"Color:\" + self.color + \\\n",
    "        \"  \" + \"Size:\" + str(len(self.contents)) + \"  \" + \"Max Size:\" + \\\n",
    "         str(self.max_size) + \"  \" + \"Contents:\" + str(self.contents)"
   ]
  },
  {
   "cell_type": "markdown",
   "metadata": {},
   "source": [
    "### Problem 4"
   ]
  },
  {
   "cell_type": "code",
   "execution_count": 4,
   "metadata": {
    "collapsed": true
   },
   "outputs": [],
   "source": [
    "import ComplexNumber"
   ]
  },
  {
   "cell_type": "code",
   "execution_count": 15,
   "metadata": {
    "collapsed": true
   },
   "outputs": [],
   "source": [
    "class ComplexNumber:\n",
    "    \"\"\"\n",
    "    Create complex number a+bi.\n",
    "    Attributes:\n",
    "    real - the real part of the number\n",
    "    imag - the imaginaty part of the number\n",
    "    \"\"\"\n",
    "    def __init__(self, real, imag = 0.0):\n",
    "        self.real = real\n",
    "        self.imag = imag\n",
    "    def __add__(self, other):\n",
    "        return ComplexNumber(self.real + other.real,\n",
    "                             self.imag + other.imag)\n",
    "    def __sub__(self, other):\n",
    "        return ComplexNumber(self.real - other.real,\n",
    "                       self.imag - other.imag)\n",
    "    def __mul__(self, other):\n",
    "        return ComplexNumber(self.real*other.real - self.imag*other.imag,\n",
    "                       self.imag*other.real + self.real*other.imag)\n",
    "    def __truediv__(self, other):\n",
    "        sr, si, otr, oi = self.real, self.imag, other.real, other.imag\n",
    "        r = float(otr**2 + oi**2)\n",
    "        return ComplexNumber((sr*otr+si*oi)/r, (si*otr-sr*oi)/r)\n",
    "    def __str__(self):\n",
    "        if self.imag >= 0:\n",
    "            string = str(\"(\"+str(self.real) + \"+\" + str(self.imag) + \"j)\")\n",
    "        else:\n",
    "            string = str(\"(\"+str(self.real) + \"-\" + str(self.imag) + \"j)\")\n",
    "        return string\n",
    "    def __abs__(self):\n",
    "        return sqrt(self.real**2 + self.imag**2)\n",
    "    def __eq__(self, other):\n",
    "        return self.real == other.real and self.imag == other.imag\n",
    "    def conjugate(self):\n",
    "        return self.real - self.imag * 1j"
   ]
  },
  {
   "cell_type": "code",
   "execution_count": 16,
   "metadata": {},
   "outputs": [],
   "source": [
    "def test_ComplexNumber(a, b):\n",
    "    py_cnum, my_cnum = complex(a, b), ComplexNumber(a, b)\n",
    "    # Validate the constructor.\n",
    "    if my_cnum.real != a or my_cnum.imag != b:\n",
    "        print(\"__init__() set self.real and self.imag incorrectly\")\n",
    "    # Validate conjugate() by checking the new number's imag attribute.\n",
    "    if py_cnum.conjugate().imag != my_cnum.conjugate().imag:\n",
    "        print(\"conjugate() failed for\", py_cnum)\n",
    "    # Validate __str__().\n",
    "    if str(py_cnum) != str(my_cnum):\n",
    "        print(\"__str__() failed for\", py_cnum)\n",
    "    testing = ComplexNumber(1, 2)\n",
    "    print(testing + my_cnum)\n",
    "    print(testing * my_cnum)\n",
    "    print(testing / my_cnum)"
   ]
  },
  {
   "cell_type": "code",
   "execution_count": 17,
   "metadata": {},
   "outputs": [
    {
     "name": "stdout",
     "output_type": "stream",
     "text": [
      "(2+4j)\n",
      "(-3+4j)\n",
      "(1.0+0.0j)\n"
     ]
    }
   ],
   "source": [
    "test_ComplexNumber(1, 2)"
   ]
  },
  {
   "cell_type": "code",
   "execution_count": 34,
   "metadata": {
    "collapsed": true
   },
   "outputs": [],
   "source": [
    "def test_ComplexNumber(a, b):\n",
    "    py_cnum, my_cnum = complex(a, b), ComplexNumber(a, b)\n",
    "    # Validate the constructor.\n",
    "    if my_cnum.real != a or my_cnum.imag != b:\n",
    "        print(\"__init__() set self.real and self.imag incorrectly\")\n",
    "    # Validate conjugate() by checking the new number's imag attribute.\n",
    "    if py_cnum.conjugate().imag != my_cnum.conjugate().imag:\n",
    "        print(\"conjugate() failed for\", py_cnum)\n",
    "    # Validate __str__().\n",
    "    if str(py_cnum) != str(my_cnum):\n",
    "        print(\"__str__() failed for\", py_cnum)\n",
    "    else:\n",
    "        print(\"good\")"
   ]
  },
  {
   "cell_type": "code",
   "execution_count": 33,
   "metadata": {},
   "outputs": [
    {
     "data": {
      "text/plain": [
       "(1-2j)"
      ]
     },
     "execution_count": 33,
     "metadata": {},
     "output_type": "execute_result"
    }
   ],
   "source": [
    "ComplexNumber(1, 2).conjugate()"
   ]
  },
  {
   "cell_type": "code",
   "execution_count": 35,
   "metadata": {},
   "outputs": [
    {
     "name": "stdout",
     "output_type": "stream",
     "text": [
      "__str__() failed for (1+2j)\n"
     ]
    }
   ],
   "source": [
    "test_ComplexNumber(1, 2)"
   ]
  }
 ],
 "metadata": {
  "kernelspec": {
   "display_name": "Python 3",
   "language": "python",
   "name": "python3"
  },
  "language_info": {
   "codemirror_mode": {
    "name": "ipython",
    "version": 3
   },
   "file_extension": ".py",
   "mimetype": "text/x-python",
   "name": "python",
   "nbconvert_exporter": "python",
   "pygments_lexer": "ipython3",
   "version": "3.6.2"
  }
 },
 "nbformat": 4,
 "nbformat_minor": 2
}
