{
 "cells": [
  {
   "cell_type": "markdown",
   "metadata": {},
   "source": [
    "Date: 07/02/2019"
   ]
  },
  {
   "cell_type": "code",
   "execution_count": 1,
   "metadata": {
    "collapsed": true
   },
   "outputs": [],
   "source": [
    "import numpy as np"
   ]
  },
  {
   "cell_type": "code",
   "execution_count": 3,
   "metadata": {},
   "outputs": [
    {
     "data": {
      "text/plain": [
       "array([8, 4, 6, 0, 2])"
      ]
     },
     "execution_count": 3,
     "metadata": {},
     "output_type": "execute_result"
    }
   ],
   "source": [
    "# Create a 1-D array by passing a list into NumPy's array() function.np.array([8, 4, 6, 0, 2])\n",
    "np.array([8, 4, 6, 0, 2])"
   ]
  },
  {
   "cell_type": "code",
   "execution_count": 4,
   "metadata": {},
   "outputs": [
    {
     "name": "stdout",
     "output_type": "stream",
     "text": [
      "[1 3 5 7 9]\n"
     ]
    }
   ],
   "source": [
    "print(np.array([1, 3, 5, 7, 9]))"
   ]
  },
  {
   "cell_type": "code",
   "execution_count": 5,
   "metadata": {},
   "outputs": [
    {
     "name": "stdout",
     "output_type": "stream",
     "text": [
      "[[1 2 3]\n",
      " [4 5 6]]\n"
     ]
    }
   ],
   "source": [
    "#Create a 2-D array by passing a list of lists into array().\n",
    "A = np.array( [ [1, 2, 3],[4, 5, 6] ] )\n",
    "print(A)"
   ]
  },
  {
   "cell_type": "code",
   "execution_count": 6,
   "metadata": {},
   "outputs": [
    {
     "name": "stdout",
     "output_type": "stream",
     "text": [
      "2 6\n"
     ]
    }
   ],
   "source": [
    "print(A[0,1], A[1,2])"
   ]
  },
  {
   "cell_type": "code",
   "execution_count": 7,
   "metadata": {},
   "outputs": [
    {
     "data": {
      "text/plain": [
       "array([1, 2, 3])"
      ]
     },
     "execution_count": 7,
     "metadata": {},
     "output_type": "execute_result"
    }
   ],
   "source": [
    "A[0]"
   ]
  },
  {
   "cell_type": "markdown",
   "metadata": {},
   "source": [
    "### Problem 1"
   ]
  },
  {
   "cell_type": "code",
   "execution_count": 9,
   "metadata": {},
   "outputs": [
    {
     "name": "stdout",
     "output_type": "stream",
     "text": [
      "[[ 3 -1  4]\n",
      " [ 1  5 -9]]\n"
     ]
    }
   ],
   "source": [
    "A = np.array([[3,-1,4], [1,5,-9]])\n",
    "print(A)"
   ]
  },
  {
   "cell_type": "code",
   "execution_count": 11,
   "metadata": {},
   "outputs": [
    {
     "name": "stdout",
     "output_type": "stream",
     "text": [
      "[[ 2  6 -5  3]\n",
      " [ 5 -8  9  7]\n",
      " [ 9 -3 -2 -3]]\n"
     ]
    }
   ],
   "source": [
    "B = np.array([[2,6,-5,3],[5,-8,9,7], [9,-3,-2,-3]])\n",
    "print(B)"
   ]
  },
  {
   "cell_type": "code",
   "execution_count": 13,
   "metadata": {},
   "outputs": [
    {
     "name": "stdout",
     "output_type": "stream",
     "text": [
      "[[ 37  14 -32 -10]\n",
      " [-54  -7  58  65]]\n"
     ]
    }
   ],
   "source": [
    "AB = np.dot(A, B)\n",
    "print(AB)"
   ]
  },
  {
   "cell_type": "markdown",
   "metadata": {},
   "source": [
    "### Problem 2"
   ]
  },
  {
   "cell_type": "code",
   "execution_count": 16,
   "metadata": {},
   "outputs": [
    {
     "name": "stdout",
     "output_type": "stream",
     "text": [
      "[[ 3  1  4]\n",
      " [ 1  5  9]\n",
      " [-5  3  1]]\n"
     ]
    }
   ],
   "source": [
    "A = np.array([[3,1,4], [1,5,9],[-5,3,1]])\n",
    "print(A)"
   ]
  },
  {
   "cell_type": "code",
   "execution_count": 19,
   "metadata": {},
   "outputs": [
    {
     "name": "stdout",
     "output_type": "stream",
     "text": [
      "[[ 54   0  29]\n",
      " [  0 124 216]\n",
      " [-98  54   0]]\n"
     ]
    }
   ],
   "source": [
    "A_new = -A^3 + 9*A^2 - 15*A\n",
    "print(A_new)"
   ]
  },
  {
   "cell_type": "code",
   "execution_count": 30,
   "metadata": {},
   "outputs": [
    {
     "data": {
      "text/plain": [
       "array([[4, 4, 4],\n",
       "       [4, 4, 4],\n",
       "       [4, 4, 4]])"
      ]
     },
     "execution_count": 30,
     "metadata": {},
     "output_type": "execute_result"
    }
   ],
   "source": [
    "np.full_like(A_new, 4)"
   ]
  },
  {
   "cell_type": "markdown",
   "metadata": {},
   "source": [
    "### Problem 3"
   ]
  },
  {
   "cell_type": "code",
   "execution_count": 135,
   "metadata": {},
   "outputs": [
    {
     "name": "stdout",
     "output_type": "stream",
     "text": [
      "[[1 1 1 1 1 1 1]\n",
      " [0 1 1 1 1 1 1]\n",
      " [0 0 1 1 1 1 1]\n",
      " [0 0 0 1 1 1 1]\n",
      " [0 0 0 0 1 1 1]\n",
      " [0 0 0 0 0 1 1]\n",
      " [0 0 0 0 0 0 1]]\n"
     ]
    }
   ],
   "source": [
    "A = np.triu(np.ones([7,7], dtype = 'int64'))\n",
    "print(A)"
   ]
  },
  {
   "cell_type": "code",
   "execution_count": 137,
   "metadata": {},
   "outputs": [
    {
     "name": "stdout",
     "output_type": "stream",
     "text": [
      "[[-1  5  5  5  5  5  5]\n",
      " [-1 -1  5  5  5  5  5]\n",
      " [-1 -1 -1  5  5  5  5]\n",
      " [-1 -1 -1 -1  5  5  5]\n",
      " [-1 -1 -1 -1 -1  5  5]\n",
      " [-1 -1 -1 -1 -1 -1  5]\n",
      " [-1 -1 -1 -1 -1 -1 -1]]\n"
     ]
    }
   ],
   "source": [
    "B = np.triu(np.full_like(A, 5), 1) + np.tril(np.full_like(A, -1))\n",
    "print(B)"
   ]
  },
  {
   "cell_type": "code",
   "execution_count": 138,
   "metadata": {},
   "outputs": [
    {
     "name": "stdout",
     "output_type": "stream",
     "text": [
      "[[-1  5  5  5  5  5  5]\n",
      " [ 0 -1  5  5  5  5  5]\n",
      " [ 0  0 -1  5  5  5  5]\n",
      " [ 0  0  0 -1  5  5  5]\n",
      " [ 0  0  0  0 -1  5  5]\n",
      " [ 0  0  0  0  0 -1  5]\n",
      " [ 0  0  0  0  0  0 -1]]\n"
     ]
    }
   ],
   "source": [
    "ABA = A*B*A\n",
    "print(ABA)"
   ]
  },
  {
   "cell_type": "code",
   "execution_count": 140,
   "metadata": {
    "collapsed": true
   },
   "outputs": [],
   "source": [
    "ABA = ABA.astype(np.int64)"
   ]
  },
  {
   "cell_type": "code",
   "execution_count": 141,
   "metadata": {},
   "outputs": [
    {
     "data": {
      "text/plain": [
       "dtype('int64')"
      ]
     },
     "execution_count": 141,
     "metadata": {},
     "output_type": "execute_result"
    }
   ],
   "source": [
    "ABA.dtype"
   ]
  },
  {
   "cell_type": "markdown",
   "metadata": {},
   "source": [
    "### Problem 4"
   ]
  },
  {
   "cell_type": "code",
   "execution_count": 98,
   "metadata": {},
   "outputs": [
    {
     "name": "stdout",
     "output_type": "stream",
     "text": [
      "[-100  -90  -80  -70  -60  -50  -40  -30  -20  -10    0   10   20   30   40\n",
      "   50   60   70   80   90  100]\n"
     ]
    }
   ],
   "source": [
    "x = np.arange(-100, 110, 10)\n",
    "print(x)"
   ]
  },
  {
   "cell_type": "code",
   "execution_count": 114,
   "metadata": {},
   "outputs": [
    {
     "name": "stdout",
     "output_type": "stream",
     "text": [
      "[  0   0   0   0   0   0   0   0   0   0   0  10  20  30  40  50  60  70\n",
      "  80  90 100]\n"
     ]
    }
   ],
   "source": [
    "mask = x < 0 \n",
    "x[mask]\n",
    "print(x)"
   ]
  },
  {
   "cell_type": "markdown",
   "metadata": {},
   "source": [
    "### Problem 5"
   ]
  },
  {
   "cell_type": "code",
   "execution_count": 179,
   "metadata": {},
   "outputs": [
    {
     "name": "stdout",
     "output_type": "stream",
     "text": [
      "[[0 2 4]\n",
      " [1 3 5]]\n",
      "[[3 0 0]\n",
      " [3 3 0]\n",
      " [3 3 3]]\n",
      "[[-2  0  0]\n",
      " [ 0 -2  0]\n",
      " [ 0  0 -2]]\n"
     ]
    }
   ],
   "source": [
    "A = np.array([[0,2,4],[1,3,5]])\n",
    "B = np.tril(np.full((3,3),3))\n",
    "C = np.eye(3, dtype = 'int64')*(-2)\n",
    "print(A)\n",
    "print(B)\n",
    "print(C)"
   ]
  },
  {
   "cell_type": "code",
   "execution_count": 160,
   "metadata": {},
   "outputs": [
    {
     "name": "stdout",
     "output_type": "stream",
     "text": [
      "[[1 0 0]\n",
      " [0 1 0]\n",
      " [0 0 1]]\n"
     ]
    }
   ],
   "source": [
    "I = np.eye(3, dtype = 'int64')\n",
    "print(I)"
   ]
  },
  {
   "cell_type": "code",
   "execution_count": 161,
   "metadata": {},
   "outputs": [
    {
     "name": "stdout",
     "output_type": "stream",
     "text": [
      "[[0 1]\n",
      " [2 3]\n",
      " [4 5]]\n"
     ]
    }
   ],
   "source": [
    "A_trans = A.T\n",
    "print(A.T)"
   ]
  },
  {
   "cell_type": "code",
   "execution_count": 187,
   "metadata": {},
   "outputs": [],
   "source": [
    "a1 = np.column_stack((np.zeros(3), A_trans, I))\n",
    "a2 = np.column_stack((A, np.zeros((2,2)), np.zeros(2)))\n",
    "a3 = np.column_stack((B, C))"
   ]
  },
  {
   "cell_type": "code",
   "execution_count": 192,
   "metadata": {},
   "outputs": [
    {
     "data": {
      "text/plain": [
       "(3, 6)"
      ]
     },
     "execution_count": 192,
     "metadata": {},
     "output_type": "execute_result"
    }
   ],
   "source": [
    "a3.shape"
   ]
  },
  {
   "cell_type": "code",
   "execution_count": 193,
   "metadata": {},
   "outputs": [
    {
     "data": {
      "text/plain": [
       "array([[ 0.,  0.,  1.,  1.,  0.,  0.],\n",
       "       [ 0.,  2.,  3.,  0.,  1.,  0.],\n",
       "       [ 0.,  4.,  5.,  0.,  0.,  1.],\n",
       "       [ 0.,  2.,  4.,  0.,  0.,  0.],\n",
       "       [ 1.,  3.,  5.,  0.,  0.,  0.],\n",
       "       [ 3.,  0.,  0., -2.,  0.,  0.],\n",
       "       [ 3.,  3.,  0.,  0., -2.,  0.],\n",
       "       [ 3.,  3.,  3.,  0.,  0., -2.]])"
      ]
     },
     "execution_count": 193,
     "metadata": {},
     "output_type": "execute_result"
    }
   ],
   "source": [
    "np.vstack((a1,a2,a3))"
   ]
  },
  {
   "cell_type": "markdown",
   "metadata": {},
   "source": [
    "### Problem 6"
   ]
  },
  {
   "cell_type": "code",
   "execution_count": 214,
   "metadata": {},
   "outputs": [
    {
     "name": "stdout",
     "output_type": "stream",
     "text": [
      "[[0 2 4]\n",
      " [1 3 5]]\n"
     ]
    }
   ],
   "source": [
    "A = np.array([[0,2,4],[1,3,5]])\n",
    "print(A)"
   ]
  },
  {
   "cell_type": "code",
   "execution_count": 216,
   "metadata": {
    "collapsed": true
   },
   "outputs": [],
   "source": [
    "def row_stochastic(x):\n",
    "    return(x/x.sum(axis = 1).reshape((-1,1)))"
   ]
  },
  {
   "cell_type": "code",
   "execution_count": 217,
   "metadata": {},
   "outputs": [
    {
     "name": "stdout",
     "output_type": "stream",
     "text": [
      "[[ 0.          0.33333333  0.66666667]\n",
      " [ 0.11111111  0.33333333  0.55555556]]\n"
     ]
    }
   ],
   "source": [
    "A_new = row_stochastic(A)\n",
    "print(A_new)"
   ]
  },
  {
   "cell_type": "markdown",
   "metadata": {},
   "source": [
    "### Problem 7"
   ]
  },
  {
   "cell_type": "code",
   "execution_count": 228,
   "metadata": {},
   "outputs": [],
   "source": [
    "import os\n",
    "path = '/Users/Alina/Documents/GitHub/BootCamp2019/ProblemSets'\n",
    "os.chdir(path)"
   ]
  },
  {
   "cell_type": "code",
   "execution_count": 230,
   "metadata": {},
   "outputs": [
    {
     "name": "stdout",
     "output_type": "stream",
     "text": [
      "[[ 8  2 22 97 38 15  0 40  0 75  4  5  7 78 52 12 50 77 91  8]\n",
      " [49 49 99 40 17 81 18 57 60 87 17 40 98 43 69 48  4 56 62  0]\n",
      " [81 49 31 73 55 79 14 29 93 71 40 67 53 88 30  3 49 13 36 65]\n",
      " [52 70 95 23  4 60 11 42 69 24 68 56  1 32 56 71 37  2 36 91]\n",
      " [22 31 16 71 51 67 63 89 41 92 36 54 22 40 40 28 66 33 13 80]\n",
      " [24 47 32 60 99  3 45  2 44 75 33 53 78 36 84 20 35 17 12 50]\n",
      " [32 98 81 28 64 23 67 10 26 38 40 67 59 54 70 66 18 38 64 70]\n",
      " [67 26 20 68  2 62 12 20 95 63 94 39 63  8 40 91 66 49 94 21]\n",
      " [24 55 58  5 66 73 99 26 97 17 78 78 96 83 14 88 34 89 63 72]\n",
      " [21 36 23  9 75  0 76 44 20 45 35 14  0 61 33 97 34 31 33 95]\n",
      " [78 17 53 28 22 75 31 67 15 94  3 80  4 62 16 14  9 53 56 92]\n",
      " [16 39  5 42 96 35 31 47 55 58 88 24  0 17 54 24 36 29 85 57]\n",
      " [86 56  0 48 35 71 89  7  5 44 44 37 44 60 21 58 51 54 17 58]\n",
      " [19 80 81 68  5 94 47 69 28 73 92 13 86 52 17 77  4 89 55 40]\n",
      " [ 4 52  8 83 97 35 99 16  7 97 57 32 16 26 26 79 33 27 98 66]\n",
      " [88 36 68 87 57 62 20 72  3 46 33 67 46 55 12 32 63 93 53 69]\n",
      " [ 4 42 16 73 38 25 39 11 24 94 72 18  8 46 29 32 40 62 76 36]\n",
      " [20 69 36 41 72 30 23 88 34 62 99 69 82 67 59 85 74  4 36 16]\n",
      " [20 73 35 29 78 31 90  1 74 31 49 71 48 86 81 16 23 57  5 54]\n",
      " [ 1 70 54 71 83 51 54 69 16 92 33 48 61 43 52  1 89 19 67 48]]\n"
     ]
    }
   ],
   "source": [
    "grid = np.load(\"grid.npy\")\n",
    "print(grid)"
   ]
  },
  {
   "cell_type": "code",
   "execution_count": 275,
   "metadata": {},
   "outputs": [],
   "source": [
    "h_vert = np.max(grid[:,:-3] * grid[:,1:-2] * grid[:,2:-1] * grid[:,3:])"
   ]
  },
  {
   "cell_type": "code",
   "execution_count": 271,
   "metadata": {},
   "outputs": [],
   "source": [
    "v_max = np.max(grid[:-3,:] * grid[1:-2,:] * grid[2:-1,:] * grid[3:,:])"
   ]
  },
  {
   "cell_type": "code",
   "execution_count": 272,
   "metadata": {},
   "outputs": [],
   "source": [
    "ld_max = np.max(grid[:-3,:-3] * grid[1:-2,1:-2] * grid[2:-1,2:-1] * grid[3:,3:])"
   ]
  },
  {
   "cell_type": "code",
   "execution_count": 273,
   "metadata": {},
   "outputs": [],
   "source": [
    "rd_max = np.max(grid[:-3,3:] * grid[1:-2,2:-1] * grid[2:-1,1:-2] * grid[3:,:-3])"
   ]
  },
  {
   "cell_type": "code",
   "execution_count": 277,
   "metadata": {},
   "outputs": [
    {
     "name": "stdout",
     "output_type": "stream",
     "text": [
      "70600674\n"
     ]
    }
   ],
   "source": [
    "winner = np.max([h_vert, v_max, ld_max, rd_max])\n",
    "print(winner)"
   ]
  }
 ],
 "metadata": {
  "kernelspec": {
   "display_name": "Python 3",
   "language": "python",
   "name": "python3"
  },
  "language_info": {
   "codemirror_mode": {
    "name": "ipython",
    "version": 3
   },
   "file_extension": ".py",
   "mimetype": "text/x-python",
   "name": "python",
   "nbconvert_exporter": "python",
   "pygments_lexer": "ipython3",
   "version": "3.6.2"
  }
 },
 "nbformat": 4,
 "nbformat_minor": 2
}
