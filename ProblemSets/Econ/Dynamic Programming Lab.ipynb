{
 "cells": [
  {
   "cell_type": "markdown",
   "metadata": {},
   "source": [
    "### Dynamic Programming \n",
    "#### Author: Alina Ozhegova\n",
    "Date: 07/06/0219"
   ]
  },
  {
   "cell_type": "markdown",
   "metadata": {},
   "source": [
    "### Asset Market Equilibrium"
   ]
  },
  {
   "cell_type": "markdown",
   "metadata": {},
   "source": [
    "* 2 periods\n",
    "* 4 states of the world: $s= {1,2,3,4}$\n",
    "* Endowment of the first agent: $e^{1}=(1, 1, 2, 1, 2)$\n",
    "* Endowment of the first agent: $e^{2}=(1, 3, 1, 3, 1)$;\n",
    "* Asset 1 payoff: $(1,1,1,1)$\n",
    "* Asset 2 payoff: $(1,1,1.5.1.5)$ \\\\\n",
    "\n",
    "The utility function of agents looks as follows:\n",
    "$$\n",
    "\\begin{array}{c}\n",
    "\\max_{\\theta_{1},\\theta_{2}} U(c)=v(c_0)+\\dfrac{1}{4}\\sum_{i=1}^{4}v(c_i)\\\\\n",
    "\\end{array}\n",
    "$$\n",
    "where\n",
    "$v(c)=\\dfrac{c^{1-\\gamma}}{1-\\gamma}$\n",
    "\n",
    "Every agent chooses the amount of assets to hold that maximize his utility:\n",
    "$$\n",
    "\\begin{array}{c}\n",
    "\\max_{\\theta_{1},\\theta_{2}} U(c^{z})=v(c_0)+\\dfrac{1}{4}\\sum_{i=1}^{4}v(c_i)\\\\\n",
    "\\end{array}\n",
    "$$\n",
    "where\n",
    "$v(c)=\\dfrac{c^{1-\\gamma}}{1-\\gamma}$\n",
    "\n",
    "For all states in s, agents maximize their utility and choose over the amount of assets to hold: ($\\theta^{h}_{1}$,$\\theta^{h}_{2}$)\n",
    "\n",
    "$$\\begin{array}{c}\n",
    "\\max_{\\theta^{h}_{1},\\theta^{h}_{2}} U(c^{h})=v(c_0^{h})+E[v(c_s^{h})]\\\\\n",
    "\\end{array} $$\n",
    "s.t. \n",
    "$$\n",
    "\\begin{array}{c}\n",
    "c^h_{0}=e^h_{0}-q_{1}*\\theta^h_{1}-q_{2}*\\theta^h_{2} \\\\\n",
    "c^h_{s}=e^h_{s}+A^1_{s} *\\theta^h_{1}+A^2_{s} *\\theta^h_{2}\\\\\n",
    "\\end{array}\n",
    "$$\n",
    "\n",
    "The first order conditions:\n",
    "$$\n",
    "\\begin{array}{c}\n",
    "-q_{1}v'(c^1_{0}) + E[v'(c^1_{s})A^1_{s})]=0\\\\\n",
    "-q_{1}v'(c^2_{0}) + E[v'(c^2_{s})A^1_{s})]=0\\\\\n",
    "-q_{2}v'(c^1_{0}) + E[v'(c^1_{s})A^2_{s})]=0\\\\\n",
    "-q_{2}v'(c^2_{0}) + E[v'(c^2_{s})A^2_{s})]=0\\\\\n",
    "\\end{array}\n",
    "$$\n",
    "\n",
    "Market clearing conditions:\n",
    "\n",
    "$$\n",
    "\\begin{array}{c}\n",
    "\\theta^1_1 +\\theta^2_1=0\\\\\n",
    "\\theta^2_1 +\\theta^2_2=0\n",
    "\\end{array}\n",
    "$$"
   ]
  },
  {
   "cell_type": "code",
   "execution_count": 2,
   "metadata": {
    "collapsed": true
   },
   "outputs": [],
   "source": [
    "from scipy.optimize import fsolve\n",
    "import numpy as np"
   ]
  },
  {
   "cell_type": "code",
   "execution_count": 10,
   "metadata": {
    "collapsed": true
   },
   "outputs": [],
   "source": [
    "gamma = 2"
   ]
  },
  {
   "cell_type": "code",
   "execution_count": 11,
   "metadata": {
    "collapsed": true
   },
   "outputs": [],
   "source": [
    "def Eq(x):\n",
    "    res = np.zeros(6)\n",
    "    theta11 = x[0]\n",
    "    theta12 = x[1]\n",
    "    theta21 = x[2]\n",
    "    theta22 = x[3]\n",
    "    q1 = x[4]\n",
    "    q2 = x[5]\n",
    "    c01 = 1 - q1 * theta11 - q2 * theta21\n",
    "    c02 = 1 - q1 * theta12 - q2 * theta22\n",
    "    c11 = 1 + theta11 + theta21\n",
    "    c12 = 3 + theta12 + theta22\n",
    "    c21 = 2 + theta11 + theta21\n",
    "    c22 = 1 + theta12 + theta22\n",
    "    c31 = 1 + theta11 + 1.5 * theta21\n",
    "    c32 = 3 + theta12 + 1.5 * theta22\n",
    "    c41 = 2 + theta11 + 1.5 * theta21\n",
    "    c42 = 1 + theta12 + 1.5 * theta22\n",
    "    res[0] = - q1 * c01**(-gamma) + 0.25 * (c11**(-gamma) + c21**(-gamma) + c31**(-gamma) + c41**(-gamma))\n",
    "    res[1] = - q1 * c02**(-gamma) + 0.25 * (c12**(-gamma) + c22**(-gamma) + c32**(-gamma) + c42**(-gamma))\n",
    "    res[2] = - q2 * c01**(-gamma) + 0.25 * (c11**(-gamma) + c21**(-gamma) + 1.5 * c31**(-gamma) + 1.5 * c41**(-gamma))\n",
    "    res[3] = - q2 * c02**(-gamma) + 0.25 * (c12**(-gamma) + c22**(-gamma) + 1.5 * c32**(-gamma) + 1.5 * c42**(-gamma))\n",
    "    res[4] = theta11 + theta12\n",
    "    res[5] = theta21 + theta22\n",
    "    return res"
   ]
  },
  {
   "cell_type": "code",
   "execution_count": 19,
   "metadata": {},
   "outputs": [
    {
     "data": {
      "text/plain": [
       "array([  1.95406655e-02,  -1.95406655e-02,   1.18686543e-11,\n",
       "        -1.18686543e-11,   5.89777656e-01,   7.37222070e-01])"
      ]
     },
     "execution_count": 19,
     "metadata": {},
     "output_type": "execute_result"
    }
   ],
   "source": [
    "gamma = 2\n",
    "fsolve(Eq, [0.1, -0.1, 0.1, -0.1, 1, 1])"
   ]
  },
  {
   "cell_type": "code",
   "execution_count": 20,
   "metadata": {},
   "outputs": [
    {
     "data": {
      "text/plain": [
       "array([  4.02982364e-03,  -4.02982364e-03,   1.00341657e-12,\n",
       "        -1.00341657e-12,   5.18661303e-01,   6.48326628e-01])"
      ]
     },
     "execution_count": 20,
     "metadata": {},
     "output_type": "execute_result"
    }
   ],
   "source": [
    "gamma = 4\n",
    "fsolve(Eq, [0.1, -0.1, 0.1, -0.1, 1, 1])"
   ]
  },
  {
   "cell_type": "code",
   "execution_count": 21,
   "metadata": {},
   "outputs": [
    {
     "data": {
      "text/plain": [
       "array([  1.56094152e-04,  -1.56094152e-04,  -3.63402314e-12,\n",
       "         3.63402314e-12,   5.01014401e-01,   6.26268001e-01])"
      ]
     },
     "execution_count": 21,
     "metadata": {},
     "output_type": "execute_result"
    }
   ],
   "source": [
    "gamma = 8\n",
    "fsolve(Eq, [0.1, -0.1, 0.1, -0.1, 1, 1])"
   ]
  },
  {
   "cell_type": "code",
   "execution_count": 24,
   "metadata": {},
   "outputs": [
    {
     "name": "stderr",
     "output_type": "stream",
     "text": [
      "/anaconda3/lib/python3.6/site-packages/scipy/optimize/minpack.py:161: RuntimeWarning: The iteration is not making good progress, as measured by the \n",
      "  improvement from the last ten iterations.\n",
      "  warnings.warn(msg, RuntimeWarning)\n"
     ]
    },
    {
     "data": {
      "text/plain": [
       "array([  2.77686917e-02,  -1.11099450e-02,  -8.37865820e-04,\n",
       "         2.20259144e-02,   2.00466424e+21,  -3.49196270e+21])"
      ]
     },
     "execution_count": 24,
     "metadata": {},
     "output_type": "execute_result"
    }
   ],
   "source": [
    "gamma = 166\n",
    "fsolve(Eq, [0.1, -0.1, 0.1, -0.1, 1, 1])\n",
    "#It seems that increasing gamma the second assets gets less desired"
   ]
  },
  {
   "cell_type": "markdown",
   "metadata": {},
   "source": [
    "### Tic Tac Toe"
   ]
  },
  {
   "cell_type": "code",
   "execution_count": 47,
   "metadata": {
    "collapsed": true
   },
   "outputs": [],
   "source": [
    "import copy"
   ]
  },
  {
   "cell_type": "code",
   "execution_count": null,
   "metadata": {},
   "outputs": [],
   "source": [
    "class XO:\n",
    "    def OpSign(self, sign):\n",
    "        return 'O' if sign == 'X' else 'X' \n",
    "\n",
    "class Board:\n",
    "    def __init__(self, size):\n",
    "        self.s = size\n",
    "        self.q = size  *size\n",
    "        self.empty = [i for i in range(self.q)]\n",
    "        self.grid = ['.'] * self.q\n",
    "    def ins(self, move, sign):\n",
    "        self.grid[move] = sign\n",
    "        self.empty = [i for i in self.empty if i != move]\n",
    "    def is_full(self):\n",
    "        return not len(self.empty)\n",
    "    def get_col(self, col):\n",
    "        return [self.grid[i] for i in range(col - 1, self.q, self.s)] \n",
    "    def get_row(self, row):\n",
    "        return self.grid[(row-1) * self.s:row * self.s] \n",
    "    def get_diag1(self):\n",
    "        return [self.grid[i] for i in range(0, self.q, self.s + 1)] \n",
    "    def get_diag2(self):\n",
    "        return [self.grid[i] for i in range(self.s - 1, self.q, self.s - 1)][:-1] \n",
    "    def __str__(self):\n",
    "        return '\\n'.join([' '.join(map(str,self.grid[i:i + self.s])) \n",
    "                for i in range(0, self.q, self.s)]) + '\\n'\n",
    "\n",
    "class Tree:\n",
    "    def BestMove(self, board, depth, sign):\n",
    "        if (board.empty == []): \n",
    "            return None\n",
    "        BestMove = -(2**(board.s**2))\n",
    "        m = board.empty[0]\n",
    "        for move in board.empty:\n",
    "            b = copy.deepcopy(board)\n",
    "            b.ins(move, sign)\n",
    "            if (self.Win(b, sign) or self.Win(b, xo.OpSign(sign))):\n",
    "                return move\n",
    "            CMove = self.Minimax(b, depth, False, xo.OpSign(sign))\n",
    "            if (CMove > BestMove):\n",
    "                BestMove = CMove\n",
    "                m = move\n",
    "        return m\n",
    "    \n",
    "    def Minimax(self, board, depth, MyTurn, sign):\n",
    "        if (self.Win(board, xo.OpSign(sign))):\n",
    "            if MyTurn: \n",
    "                return - (board.s**2+1) + depth\n",
    "            else:\n",
    "                return (board.s**2+1) - depth\n",
    "                \n",
    "        elif (board.is_full()):\n",
    "            return 0\n",
    "    \n",
    "        if (MyTurn):\n",
    "            BestValue = -(2**700)\n",
    "            for move in board.empty: \n",
    "                b = copy.deepcopy(board)\n",
    "                b.ins(move, sign)\n",
    "                value = self.Minimax(b, depth + 1, not MyTurn, xo.OpSign(sign))\n",
    "                BestValue = max([BestValue, value])\n",
    "    \n",
    "        else:\n",
    "            BestValue = (2**700)\n",
    "            for move in board.empty:\n",
    "                b = copy.deepcopy(board)\n",
    "                b.ins(move, sign) \n",
    "                value = self.Minimax(b, depth + 1, not MyTurn, xo.OpSign(sign))\n",
    "                BestValue = min([BestValue, value])\n",
    "        return BestValue\n",
    "    \n",
    "    def Win(self, board, sign):\n",
    "        temp = board.s\n",
    "        wins = []  \n",
    "        for i in range(1, temp + 1):\n",
    "            wins.append(board.get_col(i))\n",
    "            wins.append(board.get_row(i))\n",
    "        wins.append(board.get_diag1())\n",
    "        wins.append(board.get_diag2())\n",
    "    \n",
    "        for i in wins:\n",
    "            if (self.is_same(i, sign)):\n",
    "                return True\n",
    "            else:\n",
    "                return False\n",
    "    def is_same(self, l, sign):\n",
    "        for i in l:\n",
    "            if (i != sign):\n",
    "                return False\n",
    "            else:\n",
    "                return True\n",
    "            \n",
    "xo = XO()\n",
    "board = Board(3)\n",
    "tree = Tree()\n",
    "sign = 'O'\n",
    "human = False\n",
    "while not board.is_full() and not tree.Win(board, sign):\n",
    "    sign = xo.OpSign(sign)\n",
    "    human = not human\n",
    "    if human:\n",
    "        move = input('Your turn. Please input number from 0 to 8'.format(sign))\n",
    "    else:\n",
    "        print('Let me think...')\n",
    "        move = tree.BestMove(board, 0, sign)\n",
    "    board.ins(int(move), sign)\n",
    "    print (board)"
   ]
  },
  {
   "cell_type": "markdown",
   "metadata": {},
   "source": [
    "### Ramsey I"
   ]
  },
  {
   "cell_type": "code",
   "execution_count": 48,
   "metadata": {
    "collapsed": true
   },
   "outputs": [],
   "source": [
    "from matplotlib import pyplot as plt"
   ]
  },
  {
   "cell_type": "markdown",
   "metadata": {},
   "source": [
    "#### For N = 50"
   ]
  },
  {
   "cell_type": "code",
   "execution_count": 49,
   "metadata": {
    "collapsed": true
   },
   "outputs": [],
   "source": [
    "beta = .9\n",
    "N = 50 \n",
    "k_low = .1 \n",
    "k_high = 10 \n",
    "k_grid = np.linspace(k_low, k_high, N).reshape(1, N) \n",
    "V_init = np.zeros((2, N))"
   ]
  },
  {
   "cell_type": "code",
   "execution_count": 50,
   "metadata": {
    "collapsed": true
   },
   "outputs": [],
   "source": [
    "u = lambda c: np.log(c)"
   ]
  },
  {
   "cell_type": "code",
   "execution_count": 52,
   "metadata": {
    "collapsed": true
   },
   "outputs": [],
   "source": [
    "def ActionValue(k_i, V_prev):\n",
    "    V_prev = np.zeros((2, N))\n",
    "    k = k_grid[0, k_i]\n",
    "    action_value = np.zeros_like(V_prev) #(2,N)\n",
    "    c = np.zeros_like(V_prev)\n",
    "    c[0,:] = 0.9 * k**0.3 + 0.3 * k - k_grid \n",
    "    c[1,:] = 1.1 * k**0.3 + 0.9 * k - k_grid\n",
    "    action_value[c <= 0] = - 999999 # negative consumption\n",
    "    action_value[c > 0] = u(c[c > 0])\n",
    "    EV = V_prev.mean(axis=0).reshape(1, N)\n",
    "    action_value = action_value + beta * EV #(2,N)\n",
    "    \n",
    "    return action_value"
   ]
  },
  {
   "cell_type": "code",
   "execution_count": 53,
   "metadata": {
    "collapsed": true
   },
   "outputs": [],
   "source": [
    "def ValueFunctionUpdate(i, V_prev):\n",
    "    V_upd = ActionValue(i, V_prev).max(axis=1)\n",
    "    return V_upd"
   ]
  },
  {
   "cell_type": "code",
   "execution_count": 54,
   "metadata": {
    "collapsed": true
   },
   "outputs": [],
   "source": [
    "def VFUpdateIteration(V_prev):\n",
    "    V_upd = np.zeros_like(V_prev)\n",
    "    for ii in range(V_upd.shape[1]):\n",
    "        V_upd[:,ii] = ValueFunctionUpdate(ii, V_prev)\n",
    "    return V_upd"
   ]
  },
  {
   "cell_type": "code",
   "execution_count": 59,
   "metadata": {},
   "outputs": [
    {
     "name": "stdout",
     "output_type": "stream",
     "text": [
      "Iteration: 1\n",
      "Iteration: 2\n",
      "Converged after iteration 2\n"
     ]
    },
    {
     "data": {
      "image/png": "[encoded data removed]",
      "text/plain": [
       "<matplotlib.figure.Figure at 0x10c76c2e8>"
      ]
     },
     "metadata": {},
     "output_type": "display_data"
    }
   ],
   "source": [
    "# For N = 50\n",
    "MaxIters = 10000\n",
    "DifList = []\n",
    "t = 1e-10\n",
    "PlotInterval = 50\n",
    "V = V_init.copy()\n",
    "\n",
    "for i in range(MaxIters):\n",
    "    V_upd = VFUpdateIteration(V)\n",
    "    diff = np.max(np.abs(V_upd - V))\n",
    "    DifList.append(diff) \n",
    "    V = V_upd.copy()\n",
    "    print('Iteration: {}'.format(i + 1))\n",
    "    if diff < t:\n",
    "        print('Converged after iteration {}'.format(i + 1))\n",
    "        plt.figure()\n",
    "        plt.plot(k_grid[0,:], V[0,:], label = 's=1')\n",
    "        plt.plot(k_grid[0,:], V[1,:], label = 's=2')\n",
    "        plt.xlabel('k')\n",
    "        plt.ylabel('V(k)')\n",
    "        plt.title('Value function, N = 50')\n",
    "        plt.show();\n",
    "        break"
   ]
  },
  {
   "cell_type": "markdown",
   "metadata": {},
   "source": [
    "#### For N = 500"
   ]
  },
  {
   "cell_type": "code",
   "execution_count": 56,
   "metadata": {
    "collapsed": true
   },
   "outputs": [],
   "source": [
    "N = 500 \n",
    "k_low = .1 \n",
    "k_high = 10 \n",
    "k_grid = np.linspace(k_low, k_high, N).reshape(1, N)\n",
    "V_init = np.zeros((2, N))"
   ]
  },
  {
   "cell_type": "code",
   "execution_count": 60,
   "metadata": {},
   "outputs": [
    {
     "name": "stdout",
     "output_type": "stream",
     "text": [
      "Iteration: 1\n",
      "Converged after iteration 1\n"
     ]
    },
    {
     "data": {
      "image/png": "[encoded data removed]",
      "text/plain": [
       "<matplotlib.figure.Figure at 0x10c562f28>"
      ]
     },
     "metadata": {},
     "output_type": "display_data"
    }
   ],
   "source": [
    "for i in range(MaxIters):\n",
    "    V_upd = VFUpdateIteration(V)\n",
    "    diff = np.max(np.abs(V_upd - V))\n",
    "    DifList.append(diff) \n",
    "    V = V_upd.copy()\n",
    "    print('Iteration: {}'.format(i + 1))\n",
    "    if diff < t:\n",
    "        print('Converged after iteration {}'.format(i + 1))\n",
    "        plt.figure()\n",
    "        plt.plot(k_grid[0,:], V[0,:], label = 's=1')\n",
    "        plt.plot(k_grid[0,:], V[1,:], label = 's=2')\n",
    "        plt.xlabel('k')\n",
    "        plt.ylabel('V(k)')\n",
    "        plt.title('Value function, N = 500')\n",
    "        plt.show();\n",
    "        break"
   ]
  }
 ],
 "metadata": {
  "kernelspec": {
   "display_name": "Python 3",
   "language": "python",
   "name": "python3"
  },
  "language_info": {
   "codemirror_mode": {
    "name": "ipython",
    "version": 3
   },
   "file_extension": ".py",
   "mimetype": "text/x-python",
   "name": "python",
   "nbconvert_exporter": "python",
   "pygments_lexer": "ipython3",
   "version": "3.6.2"
  }
 },
 "nbformat": 4,
 "nbformat_minor": 2
}
